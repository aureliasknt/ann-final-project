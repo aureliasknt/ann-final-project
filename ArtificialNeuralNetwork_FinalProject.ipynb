{
  "cells": [
    {
      "cell_type": "markdown",
      "metadata": {
        "id": "lYdPKx02veHh"
      },
      "source": [
        "# **Kelompok 3**"
      ]
    },
    {
      "cell_type": "markdown",
      "metadata": {
        "id": "eWATz6zQvnqN"
      },
      "source": [
        "## **Anggota Kelompok**\n",
        "\n",
        "Fatah Abdi Prakoso - 205150201111046\n",
        "\n",
        "Noverdi Anugrah Ramadhan - 205150200111059\n",
        "\n",
        "Aurelia Sukianto - 205150200111068\n",
        "\n",
        "Diana Ayu Sukma Putri - 205150201111056\n",
        "\n",
        "Safinatunnajah Mutiara Putri - 205150200111040"
      ]
    },
    {
      "cell_type": "markdown",
      "metadata": {
        "id": "imZF9tqhRhPj"
      },
      "source": [
        "## **Data Understanding & Analysis**"
      ]
    },
    {
      "cell_type": "markdown",
      "metadata": {
        "id": "pCMS2uf5FJzJ"
      },
      "source": [
        "### Deskripsi Dataset"
      ]
    },
    {
      "cell_type": "markdown",
      "metadata": {
        "id": "7IZiO65EE9fw"
      },
      "source": [
        "Link Dataset: https://www.kaggle.com/datasets/mysarahmadbhat/lung-cancer\n",
        "\n",
        "<br>\n",
        "\n",
        "Total no. of attributes:16\n",
        "No .of instances:284\n",
        "Attribute information:\n",
        "\n",
        "Gender: M(male), F(female)\n",
        "\n",
        "Age: Age of the patient\n",
        "\n",
        "Smoking: YES=2 , NO=1.\n",
        "\n",
        "Yellow fingers: YES=2 , NO=1.\n",
        "\n",
        "Anxiety: YES=2 , NO=1.\n",
        "\n",
        "Peer_pressure: YES=2 , NO=1.\n",
        "\n",
        "Chronic Disease: YES=2 , NO=1.\n",
        "\n",
        "Fatigue: YES=2 , NO=1.\n",
        "\n",
        "Allergy: YES=2 , NO=1.\n",
        "\n",
        "Wheezing: YES=2 , NO=1.\n",
        "\n",
        "Alcohol: YES=2 , NO=1.\n",
        "\n",
        "Coughing: YES=2 , NO=1.\n",
        "\n",
        "Shortness of Breath: YES=2 , NO=1.\n",
        "\n",
        "Swallowing Difficulty: YES=2 , NO=1.\n",
        "\n",
        "Chest pain: YES=2 , NO=1.\n",
        "\n",
        "Lung Cancer: YES , NO."
      ]
    },
    {
      "cell_type": "markdown",
      "metadata": {
        "id": "rMPXpM5ARwpp"
      },
      "source": [
        "### Data Collecting"
      ]
    },
    {
      "cell_type": "code",
      "execution_count": null,
      "metadata": {
        "id": "FNgTjKVARq20",
        "colab": {
          "base_uri": "https://localhost:8080/"
        },
        "outputId": "676fd9e4-65c3-4a29-ac45-6a8f0a004651"
      },
      "outputs": [
        {
          "output_type": "stream",
          "name": "stdout",
          "text": [
            "--2022-12-29 07:35:51--  https://docs.google.com/uc?export=download&id=1zlq2PbIZbVy1bGuO6emIUjXdkLMDXtl7\n",
            "Resolving docs.google.com (docs.google.com)... 108.177.119.101, 108.177.119.113, 108.177.119.102, ...\n",
            "Connecting to docs.google.com (docs.google.com)|108.177.119.101|:443... connected.\n",
            "HTTP request sent, awaiting response... 303 See Other\n",
            "Location: https://doc-0o-3o-docs.googleusercontent.com/docs/securesc/ha0ro937gcuc7l7deffksulhg5h7mbp1/nck0bkp65ssccst48hgjolf1l4tfv7lr/1672299300000/12768932441768825715/*/1zlq2PbIZbVy1bGuO6emIUjXdkLMDXtl7?e=download&uuid=d7a1f199-ef83-4827-a89a-ab5316d20377 [following]\n",
            "Warning: wildcards not supported in HTTP.\n",
            "--2022-12-29 07:35:51--  https://doc-0o-3o-docs.googleusercontent.com/docs/securesc/ha0ro937gcuc7l7deffksulhg5h7mbp1/nck0bkp65ssccst48hgjolf1l4tfv7lr/1672299300000/12768932441768825715/*/1zlq2PbIZbVy1bGuO6emIUjXdkLMDXtl7?e=download&uuid=d7a1f199-ef83-4827-a89a-ab5316d20377\n",
            "Resolving doc-0o-3o-docs.googleusercontent.com (doc-0o-3o-docs.googleusercontent.com)... 108.177.119.132, 2a00:1450:4013:c00::84\n",
            "Connecting to doc-0o-3o-docs.googleusercontent.com (doc-0o-3o-docs.googleusercontent.com)|108.177.119.132|:443... connected.\n",
            "HTTP request sent, awaiting response... 200 OK\n",
            "Length: 11277 (11K) [text/csv]\n",
            "Saving to: ‘dataset_lung_cancer.csv’\n",
            "\n",
            "dataset_lung_cancer 100%[===================>]  11.01K  --.-KB/s    in 0s      \n",
            "\n",
            "2022-12-29 07:35:52 (99.0 MB/s) - ‘dataset_lung_cancer.csv’ saved [11277/11277]\n",
            "\n"
          ]
        }
      ],
      "source": [
        "! wget --no-check-certificate 'https://docs.google.com/uc?export=download&id=1zlq2PbIZbVy1bGuO6emIUjXdkLMDXtl7' -O 'dataset_lung_cancer.csv'"
      ]
    },
    {
      "cell_type": "code",
      "execution_count": null,
      "metadata": {
        "id": "acl-2oeCR4rK",
        "colab": {
          "base_uri": "https://localhost:8080/",
          "height": 288
        },
        "outputId": "7c881704-bdc4-4e43-e853-9b5938544e2c"
      },
      "outputs": [
        {
          "output_type": "execute_result",
          "data": {
            "text/plain": [
              "  GENDER  AGE  SMOKING  YELLOW_FINGERS  ANXIETY  PEER_PRESSURE  \\\n",
              "0      M   69        1               2        2              1   \n",
              "1      M   74        2               1        1              1   \n",
              "2      F   59        1               1        1              2   \n",
              "3      M   63        2               2        2              1   \n",
              "4      F   63        1               2        1              1   \n",
              "\n",
              "   CHRONIC DISEASE  FATIGUE   ALLERGY   WHEEZING  ALCOHOL CONSUMING  COUGHING  \\\n",
              "0                1         2         1         2                  2         2   \n",
              "1                2         2         2         1                  1         1   \n",
              "2                1         2         1         2                  1         2   \n",
              "3                1         1         1         1                  2         1   \n",
              "4                1         1         1         2                  1         2   \n",
              "\n",
              "   SHORTNESS OF BREATH  SWALLOWING DIFFICULTY  CHEST PAIN LUNG_CANCER  \n",
              "0                    2                      2           2         YES  \n",
              "1                    2                      2           2         YES  \n",
              "2                    2                      1           2          NO  \n",
              "3                    1                      2           2          NO  \n",
              "4                    2                      1           1          NO  "
            ],
            "text/html": [
              "\n",
              "  <div id=\"df-669007ec-3ffb-45d8-9b81-f5e661a25a35\">\n",
              "    <div class=\"colab-df-container\">\n",
              "      <div>\n",
              "<style scoped>\n",
              "    .dataframe tbody tr th:only-of-type {\n",
              "        vertical-align: middle;\n",
              "    }\n",
              "\n",
              "    .dataframe tbody tr th {\n",
              "        vertical-align: top;\n",
              "    }\n",
              "\n",
              "    .dataframe thead th {\n",
              "        text-align: right;\n",
              "    }\n",
              "</style>\n",
              "<table border=\"1\" class=\"dataframe\">\n",
              "  <thead>\n",
              "    <tr style=\"text-align: right;\">\n",
              "      <th></th>\n",
              "      <th>GENDER</th>\n",
              "      <th>AGE</th>\n",
              "      <th>SMOKING</th>\n",
              "      <th>YELLOW_FINGERS</th>\n",
              "      <th>ANXIETY</th>\n",
              "      <th>PEER_PRESSURE</th>\n",
              "      <th>CHRONIC DISEASE</th>\n",
              "      <th>FATIGUE</th>\n",
              "      <th>ALLERGY</th>\n",
              "      <th>WHEEZING</th>\n",
              "      <th>ALCOHOL CONSUMING</th>\n",
              "      <th>COUGHING</th>\n",
              "      <th>SHORTNESS OF BREATH</th>\n",
              "      <th>SWALLOWING DIFFICULTY</th>\n",
              "      <th>CHEST PAIN</th>\n",
              "      <th>LUNG_CANCER</th>\n",
              "    </tr>\n",
              "  </thead>\n",
              "  <tbody>\n",
              "    <tr>\n",
              "      <th>0</th>\n",
              "      <td>M</td>\n",
              "      <td>69</td>\n",
              "      <td>1</td>\n",
              "      <td>2</td>\n",
              "      <td>2</td>\n",
              "      <td>1</td>\n",
              "      <td>1</td>\n",
              "      <td>2</td>\n",
              "      <td>1</td>\n",
              "      <td>2</td>\n",
              "      <td>2</td>\n",
              "      <td>2</td>\n",
              "      <td>2</td>\n",
              "      <td>2</td>\n",
              "      <td>2</td>\n",
              "      <td>YES</td>\n",
              "    </tr>\n",
              "    <tr>\n",
              "      <th>1</th>\n",
              "      <td>M</td>\n",
              "      <td>74</td>\n",
              "      <td>2</td>\n",
              "      <td>1</td>\n",
              "      <td>1</td>\n",
              "      <td>1</td>\n",
              "      <td>2</td>\n",
              "      <td>2</td>\n",
              "      <td>2</td>\n",
              "      <td>1</td>\n",
              "      <td>1</td>\n",
              "      <td>1</td>\n",
              "      <td>2</td>\n",
              "      <td>2</td>\n",
              "      <td>2</td>\n",
              "      <td>YES</td>\n",
              "    </tr>\n",
              "    <tr>\n",
              "      <th>2</th>\n",
              "      <td>F</td>\n",
              "      <td>59</td>\n",
              "      <td>1</td>\n",
              "      <td>1</td>\n",
              "      <td>1</td>\n",
              "      <td>2</td>\n",
              "      <td>1</td>\n",
              "      <td>2</td>\n",
              "      <td>1</td>\n",
              "      <td>2</td>\n",
              "      <td>1</td>\n",
              "      <td>2</td>\n",
              "      <td>2</td>\n",
              "      <td>1</td>\n",
              "      <td>2</td>\n",
              "      <td>NO</td>\n",
              "    </tr>\n",
              "    <tr>\n",
              "      <th>3</th>\n",
              "      <td>M</td>\n",
              "      <td>63</td>\n",
              "      <td>2</td>\n",
              "      <td>2</td>\n",
              "      <td>2</td>\n",
              "      <td>1</td>\n",
              "      <td>1</td>\n",
              "      <td>1</td>\n",
              "      <td>1</td>\n",
              "      <td>1</td>\n",
              "      <td>2</td>\n",
              "      <td>1</td>\n",
              "      <td>1</td>\n",
              "      <td>2</td>\n",
              "      <td>2</td>\n",
              "      <td>NO</td>\n",
              "    </tr>\n",
              "    <tr>\n",
              "      <th>4</th>\n",
              "      <td>F</td>\n",
              "      <td>63</td>\n",
              "      <td>1</td>\n",
              "      <td>2</td>\n",
              "      <td>1</td>\n",
              "      <td>1</td>\n",
              "      <td>1</td>\n",
              "      <td>1</td>\n",
              "      <td>1</td>\n",
              "      <td>2</td>\n",
              "      <td>1</td>\n",
              "      <td>2</td>\n",
              "      <td>2</td>\n",
              "      <td>1</td>\n",
              "      <td>1</td>\n",
              "      <td>NO</td>\n",
              "    </tr>\n",
              "  </tbody>\n",
              "</table>\n",
              "</div>\n",
              "      <button class=\"colab-df-convert\" onclick=\"convertToInteractive('df-669007ec-3ffb-45d8-9b81-f5e661a25a35')\"\n",
              "              title=\"Convert this dataframe to an interactive table.\"\n",
              "              style=\"display:none;\">\n",
              "        \n",
              "  <svg xmlns=\"http://www.w3.org/2000/svg\" height=\"24px\"viewBox=\"0 0 24 24\"\n",
              "       width=\"24px\">\n",
              "    <path d=\"M0 0h24v24H0V0z\" fill=\"none\"/>\n",
              "    <path d=\"M18.56 5.44l.94 2.06.94-2.06 2.06-.94-2.06-.94-.94-2.06-.94 2.06-2.06.94zm-11 1L8.5 8.5l.94-2.06 2.06-.94-2.06-.94L8.5 2.5l-.94 2.06-2.06.94zm10 10l.94 2.06.94-2.06 2.06-.94-2.06-.94-.94-2.06-.94 2.06-2.06.94z\"/><path d=\"M17.41 7.96l-1.37-1.37c-.4-.4-.92-.59-1.43-.59-.52 0-1.04.2-1.43.59L10.3 9.45l-7.72 7.72c-.78.78-.78 2.05 0 2.83L4 21.41c.39.39.9.59 1.41.59.51 0 1.02-.2 1.41-.59l7.78-7.78 2.81-2.81c.8-.78.8-2.07 0-2.86zM5.41 20L4 18.59l7.72-7.72 1.47 1.35L5.41 20z\"/>\n",
              "  </svg>\n",
              "      </button>\n",
              "      \n",
              "  <style>\n",
              "    .colab-df-container {\n",
              "      display:flex;\n",
              "      flex-wrap:wrap;\n",
              "      gap: 12px;\n",
              "    }\n",
              "\n",
              "    .colab-df-convert {\n",
              "      background-color: #E8F0FE;\n",
              "      border: none;\n",
              "      border-radius: 50%;\n",
              "      cursor: pointer;\n",
              "      display: none;\n",
              "      fill: #1967D2;\n",
              "      height: 32px;\n",
              "      padding: 0 0 0 0;\n",
              "      width: 32px;\n",
              "    }\n",
              "\n",
              "    .colab-df-convert:hover {\n",
              "      background-color: #E2EBFA;\n",
              "      box-shadow: 0px 1px 2px rgba(60, 64, 67, 0.3), 0px 1px 3px 1px rgba(60, 64, 67, 0.15);\n",
              "      fill: #174EA6;\n",
              "    }\n",
              "\n",
              "    [theme=dark] .colab-df-convert {\n",
              "      background-color: #3B4455;\n",
              "      fill: #D2E3FC;\n",
              "    }\n",
              "\n",
              "    [theme=dark] .colab-df-convert:hover {\n",
              "      background-color: #434B5C;\n",
              "      box-shadow: 0px 1px 3px 1px rgba(0, 0, 0, 0.15);\n",
              "      filter: drop-shadow(0px 1px 2px rgba(0, 0, 0, 0.3));\n",
              "      fill: #FFFFFF;\n",
              "    }\n",
              "  </style>\n",
              "\n",
              "      <script>\n",
              "        const buttonEl =\n",
              "          document.querySelector('#df-669007ec-3ffb-45d8-9b81-f5e661a25a35 button.colab-df-convert');\n",
              "        buttonEl.style.display =\n",
              "          google.colab.kernel.accessAllowed ? 'block' : 'none';\n",
              "\n",
              "        async function convertToInteractive(key) {\n",
              "          const element = document.querySelector('#df-669007ec-3ffb-45d8-9b81-f5e661a25a35');\n",
              "          const dataTable =\n",
              "            await google.colab.kernel.invokeFunction('convertToInteractive',\n",
              "                                                     [key], {});\n",
              "          if (!dataTable) return;\n",
              "\n",
              "          const docLinkHtml = 'Like what you see? Visit the ' +\n",
              "            '<a target=\"_blank\" href=https://colab.research.google.com/notebooks/data_table.ipynb>data table notebook</a>'\n",
              "            + ' to learn more about interactive tables.';\n",
              "          element.innerHTML = '';\n",
              "          dataTable['output_type'] = 'display_data';\n",
              "          await google.colab.output.renderOutput(dataTable, element);\n",
              "          const docLink = document.createElement('div');\n",
              "          docLink.innerHTML = docLinkHtml;\n",
              "          element.appendChild(docLink);\n",
              "        }\n",
              "      </script>\n",
              "    </div>\n",
              "  </div>\n",
              "  "
            ]
          },
          "metadata": {},
          "execution_count": 2
        }
      ],
      "source": [
        "import pandas as pd\n",
        "import numpy as np\n",
        "\n",
        "data = pd.read_csv('dataset_lung_cancer.csv')\n",
        "data.head()"
      ]
    },
    {
      "cell_type": "markdown",
      "metadata": {
        "id": "M8xY6Q9kSQVQ"
      },
      "source": [
        "### Data Visualization"
      ]
    },
    {
      "cell_type": "code",
      "execution_count": null,
      "metadata": {
        "id": "II5A6ohKSchS"
      },
      "outputs": [],
      "source": [
        "import seaborn as sns\n",
        "import matplotlib.pyplot as plt"
      ]
    },
    {
      "cell_type": "code",
      "execution_count": null,
      "metadata": {
        "id": "PEBielCeSUWt",
        "colab": {
          "base_uri": "https://localhost:8080/"
        },
        "outputId": "45195156-4c58-48d8-8c95-2afac26af9e0"
      },
      "outputs": [
        {
          "output_type": "stream",
          "name": "stdout",
          "text": [
            "<class 'pandas.core.frame.DataFrame'>\n",
            "RangeIndex: 309 entries, 0 to 308\n",
            "Data columns (total 16 columns):\n",
            " #   Column                 Non-Null Count  Dtype \n",
            "---  ------                 --------------  ----- \n",
            " 0   GENDER                 309 non-null    object\n",
            " 1   AGE                    309 non-null    int64 \n",
            " 2   SMOKING                309 non-null    int64 \n",
            " 3   YELLOW_FINGERS         309 non-null    int64 \n",
            " 4   ANXIETY                309 non-null    int64 \n",
            " 5   PEER_PRESSURE          309 non-null    int64 \n",
            " 6   CHRONIC DISEASE        309 non-null    int64 \n",
            " 7   FATIGUE                309 non-null    int64 \n",
            " 8   ALLERGY                309 non-null    int64 \n",
            " 9   WHEEZING               309 non-null    int64 \n",
            " 10  ALCOHOL CONSUMING      309 non-null    int64 \n",
            " 11  COUGHING               309 non-null    int64 \n",
            " 12  SHORTNESS OF BREATH    309 non-null    int64 \n",
            " 13  SWALLOWING DIFFICULTY  309 non-null    int64 \n",
            " 14  CHEST PAIN             309 non-null    int64 \n",
            " 15  LUNG_CANCER            309 non-null    object\n",
            "dtypes: int64(14), object(2)\n",
            "memory usage: 38.8+ KB\n"
          ]
        }
      ],
      "source": [
        "data.info()"
      ]
    },
    {
      "cell_type": "code",
      "execution_count": null,
      "metadata": {
        "id": "7zZM3PieSj3N",
        "colab": {
          "base_uri": "https://localhost:8080/",
          "height": 106
        },
        "outputId": "eb4ec8ff-95dd-42c1-d8ea-9b973a5062fb"
      },
      "outputs": [
        {
          "output_type": "execute_result",
          "data": {
            "text/plain": [
              "<matplotlib.axes._subplots.AxesSubplot at 0x7f4ace7e1f40>"
            ]
          },
          "metadata": {},
          "execution_count": 5
        },
        {
          "output_type": "display_data",
          "data": {
            "text/plain": [
              "<Figure size 1440x1440 with 2 Axes>"
            ],
            "image/png": "[encoded data removed]"
          },
          "metadata": {
            "needs_background": "light"
          }
        }
      ],
      "source": [
        "fig, ax = plt.subplots()\n",
        "fig.set_size_inches(20,20)\n",
        "sns.heatmap(data.corr(), square = True, annot = True)"
      ]
    },
    {
      "cell_type": "markdown",
      "metadata": {
        "id": "ZehLfRE4aaRB"
      },
      "source": [
        "## **Data Preprocessing**"
      ]
    },
    {
      "cell_type": "markdown",
      "metadata": {
        "id": "teYENewkp7qH"
      },
      "source": [
        "######Memisahkan kolom kelas dan mengubah label pada kolom kelas Lung_Cancer menjadi 0 untuk NO dan 1 untuk YES"
      ]
    },
    {
      "cell_type": "code",
      "execution_count": null,
      "metadata": {
        "id": "7lBqQtQ2Y5AZ",
        "colab": {
          "base_uri": "https://localhost:8080/"
        },
        "outputId": "a09b1b5a-0035-40ef-d4e3-f558f9107545"
      },
      "outputs": [
        {
          "output_type": "execute_result",
          "data": {
            "text/plain": [
              "array([1, 0])"
            ]
          },
          "metadata": {},
          "execution_count": 40
        }
      ],
      "source": [
        "label = data.pop('LUNG_CANCER')\n",
        "label = label.replace(['NO', 'YES'], [0, 1])\n",
        "label.unique()"
      ]
    },
    {
      "cell_type": "markdown",
      "metadata": {
        "id": "FziEh2-6sWM9"
      },
      "source": [
        "###### Melakukan *binning* pada data `Age` ke dalam 2 kategori usia dipisahkan dengan *median*"
      ]
    },
    {
      "cell_type": "code",
      "execution_count": null,
      "metadata": {
        "id": "qwJh3R5bsggo",
        "colab": {
          "base_uri": "https://localhost:8080/"
        },
        "outputId": "7dd2f41b-988a-46af-fc75-6b82e676050c"
      },
      "outputs": [
        {
          "output_type": "execute_result",
          "data": {
            "text/plain": [
              "array([1, 0])"
            ]
          },
          "metadata": {},
          "execution_count": 41
        }
      ],
      "source": [
        "bins = np.array([data['AGE'].min(), data['AGE'].median(), data['AGE'].max()])\n",
        "categories = [0, 1]\n",
        "data['AGE'] = pd.cut(data['AGE'], bins, labels=categories, include_lowest=True).astype('int')\n",
        "data['AGE'].unique()"
      ]
    },
    {
      "cell_type": "markdown",
      "metadata": {
        "id": "DTfpf2FPs0BO"
      },
      "source": [
        "######Mengganti label pada fitur Gender menjadi 0 untuk Female dan 1 untuk Male"
      ]
    },
    {
      "cell_type": "code",
      "execution_count": null,
      "metadata": {
        "colab": {
          "base_uri": "https://localhost:8080/"
        },
        "id": "5xHXptO9szoE",
        "outputId": "20c091eb-941f-4886-d1fa-6db5026f881a"
      },
      "outputs": [
        {
          "output_type": "execute_result",
          "data": {
            "text/plain": [
              "array([1, 0])"
            ]
          },
          "metadata": {},
          "execution_count": 42
        }
      ],
      "source": [
        "data['GENDER'] = data['GENDER'].replace(['F', 'M'], [0, 1])\n",
        "data['GENDER'].unique()"
      ]
    },
    {
      "cell_type": "markdown",
      "metadata": {
        "id": "hf0Yw6F_tFMg"
      },
      "source": [
        "######Mengubah nilai fitur biner lainnya menjadi 0 untuk False (awalnya 1) dan 1 untuk True (awalnya 2)"
      ]
    },
    {
      "cell_type": "code",
      "execution_count": null,
      "metadata": {
        "id": "xEqmZtKasgSv"
      },
      "outputs": [],
      "source": [
        "for column in data.columns[2:]:\n",
        "    data[column] = data[column].replace([1, 2], [0, 1])"
      ]
    },
    {
      "cell_type": "markdown",
      "metadata": {
        "id": "fOtWebFTtQvj"
      },
      "source": [
        "######Mengecek isi dataframe"
      ]
    },
    {
      "cell_type": "code",
      "execution_count": null,
      "metadata": {
        "colab": {
          "base_uri": "https://localhost:8080/"
        },
        "id": "ATgj4U-ftjTp",
        "outputId": "846b9b48-7179-4259-ba69-a65af67f7c67"
      },
      "outputs": [
        {
          "output_type": "execute_result",
          "data": {
            "text/plain": [
              "           GENDER         AGE     SMOKING  YELLOW_FINGERS     ANXIETY  \\\n",
              "count  309.000000  309.000000  309.000000      309.000000  309.000000   \n",
              "mean     0.524272    0.491909    0.563107        0.569579    0.498382   \n",
              "std      0.500221    0.500745    0.496806        0.495938    0.500808   \n",
              "min      0.000000    0.000000    0.000000        0.000000    0.000000   \n",
              "25%      0.000000    0.000000    0.000000        0.000000    0.000000   \n",
              "50%      1.000000    0.000000    1.000000        1.000000    0.000000   \n",
              "75%      1.000000    1.000000    1.000000        1.000000    1.000000   \n",
              "max      1.000000    1.000000    1.000000        1.000000    1.000000   \n",
              "\n",
              "       PEER_PRESSURE  CHRONIC DISEASE    FATIGUE     ALLERGY     WHEEZING  \\\n",
              "count     309.000000       309.000000  309.000000  309.000000  309.000000   \n",
              "mean        0.501618         0.504854    0.673139    0.556634    0.556634   \n",
              "std         0.500808         0.500787    0.469827    0.497588    0.497588   \n",
              "min         0.000000         0.000000    0.000000    0.000000    0.000000   \n",
              "25%         0.000000         0.000000    0.000000    0.000000    0.000000   \n",
              "50%         1.000000         1.000000    1.000000    1.000000    1.000000   \n",
              "75%         1.000000         1.000000    1.000000    1.000000    1.000000   \n",
              "max         1.000000         1.000000    1.000000    1.000000    1.000000   \n",
              "\n",
              "       ALCOHOL CONSUMING    COUGHING  SHORTNESS OF BREATH  \\\n",
              "count         309.000000  309.000000           309.000000   \n",
              "mean            0.556634    0.579288             0.640777   \n",
              "std             0.497588    0.494474             0.480551   \n",
              "min             0.000000    0.000000             0.000000   \n",
              "25%             0.000000    0.000000             0.000000   \n",
              "50%             1.000000    1.000000             1.000000   \n",
              "75%             1.000000    1.000000             1.000000   \n",
              "max             1.000000    1.000000             1.000000   \n",
              "\n",
              "       SWALLOWING DIFFICULTY  CHEST PAIN  \n",
              "count             309.000000  309.000000  \n",
              "mean                0.469256    0.556634  \n",
              "std                 0.499863    0.497588  \n",
              "min                 0.000000    0.000000  \n",
              "25%                 0.000000    0.000000  \n",
              "50%                 0.000000    1.000000  \n",
              "75%                 1.000000    1.000000  \n",
              "max                 1.000000    1.000000  "
            ],
            "text/html": [
              "\n",
              "  <div id=\"df-aa3c4224-0df4-4d2b-8563-359296f5e734\">\n",
              "    <div class=\"colab-df-container\">\n",
              "      <div>\n",
              "<style scoped>\n",
              "    .dataframe tbody tr th:only-of-type {\n",
              "        vertical-align: middle;\n",
              "    }\n",
              "\n",
              "    .dataframe tbody tr th {\n",
              "        vertical-align: top;\n",
              "    }\n",
              "\n",
              "    .dataframe thead th {\n",
              "        text-align: right;\n",
              "    }\n",
              "</style>\n",
              "<table border=\"1\" class=\"dataframe\">\n",
              "  <thead>\n",
              "    <tr style=\"text-align: right;\">\n",
              "      <th></th>\n",
              "      <th>GENDER</th>\n",
              "      <th>AGE</th>\n",
              "      <th>SMOKING</th>\n",
              "      <th>YELLOW_FINGERS</th>\n",
              "      <th>ANXIETY</th>\n",
              "      <th>PEER_PRESSURE</th>\n",
              "      <th>CHRONIC DISEASE</th>\n",
              "      <th>FATIGUE</th>\n",
              "      <th>ALLERGY</th>\n",
              "      <th>WHEEZING</th>\n",
              "      <th>ALCOHOL CONSUMING</th>\n",
              "      <th>COUGHING</th>\n",
              "      <th>SHORTNESS OF BREATH</th>\n",
              "      <th>SWALLOWING DIFFICULTY</th>\n",
              "      <th>CHEST PAIN</th>\n",
              "    </tr>\n",
              "  </thead>\n",
              "  <tbody>\n",
              "    <tr>\n",
              "      <th>count</th>\n",
              "      <td>309.000000</td>\n",
              "      <td>309.000000</td>\n",
              "      <td>309.000000</td>\n",
              "      <td>309.000000</td>\n",
              "      <td>309.000000</td>\n",
              "      <td>309.000000</td>\n",
              "      <td>309.000000</td>\n",
              "      <td>309.000000</td>\n",
              "      <td>309.000000</td>\n",
              "      <td>309.000000</td>\n",
              "      <td>309.000000</td>\n",
              "      <td>309.000000</td>\n",
              "      <td>309.000000</td>\n",
              "      <td>309.000000</td>\n",
              "      <td>309.000000</td>\n",
              "    </tr>\n",
              "    <tr>\n",
              "      <th>mean</th>\n",
              "      <td>0.524272</td>\n",
              "      <td>0.491909</td>\n",
              "      <td>0.563107</td>\n",
              "      <td>0.569579</td>\n",
              "      <td>0.498382</td>\n",
              "      <td>0.501618</td>\n",
              "      <td>0.504854</td>\n",
              "      <td>0.673139</td>\n",
              "      <td>0.556634</td>\n",
              "      <td>0.556634</td>\n",
              "      <td>0.556634</td>\n",
              "      <td>0.579288</td>\n",
              "      <td>0.640777</td>\n",
              "      <td>0.469256</td>\n",
              "      <td>0.556634</td>\n",
              "    </tr>\n",
              "    <tr>\n",
              "      <th>std</th>\n",
              "      <td>0.500221</td>\n",
              "      <td>0.500745</td>\n",
              "      <td>0.496806</td>\n",
              "      <td>0.495938</td>\n",
              "      <td>0.500808</td>\n",
              "      <td>0.500808</td>\n",
              "      <td>0.500787</td>\n",
              "      <td>0.469827</td>\n",
              "      <td>0.497588</td>\n",
              "      <td>0.497588</td>\n",
              "      <td>0.497588</td>\n",
              "      <td>0.494474</td>\n",
              "      <td>0.480551</td>\n",
              "      <td>0.499863</td>\n",
              "      <td>0.497588</td>\n",
              "    </tr>\n",
              "    <tr>\n",
              "      <th>min</th>\n",
              "      <td>0.000000</td>\n",
              "      <td>0.000000</td>\n",
              "      <td>0.000000</td>\n",
              "      <td>0.000000</td>\n",
              "      <td>0.000000</td>\n",
              "      <td>0.000000</td>\n",
              "      <td>0.000000</td>\n",
              "      <td>0.000000</td>\n",
              "      <td>0.000000</td>\n",
              "      <td>0.000000</td>\n",
              "      <td>0.000000</td>\n",
              "      <td>0.000000</td>\n",
              "      <td>0.000000</td>\n",
              "      <td>0.000000</td>\n",
              "      <td>0.000000</td>\n",
              "    </tr>\n",
              "    <tr>\n",
              "      <th>25%</th>\n",
              "      <td>0.000000</td>\n",
              "      <td>0.000000</td>\n",
              "      <td>0.000000</td>\n",
              "      <td>0.000000</td>\n",
              "      <td>0.000000</td>\n",
              "      <td>0.000000</td>\n",
              "      <td>0.000000</td>\n",
              "      <td>0.000000</td>\n",
              "      <td>0.000000</td>\n",
              "      <td>0.000000</td>\n",
              "      <td>0.000000</td>\n",
              "      <td>0.000000</td>\n",
              "      <td>0.000000</td>\n",
              "      <td>0.000000</td>\n",
              "      <td>0.000000</td>\n",
              "    </tr>\n",
              "    <tr>\n",
              "      <th>50%</th>\n",
              "      <td>1.000000</td>\n",
              "      <td>0.000000</td>\n",
              "      <td>1.000000</td>\n",
              "      <td>1.000000</td>\n",
              "      <td>0.000000</td>\n",
              "      <td>1.000000</td>\n",
              "      <td>1.000000</td>\n",
              "      <td>1.000000</td>\n",
              "      <td>1.000000</td>\n",
              "      <td>1.000000</td>\n",
              "      <td>1.000000</td>\n",
              "      <td>1.000000</td>\n",
              "      <td>1.000000</td>\n",
              "      <td>0.000000</td>\n",
              "      <td>1.000000</td>\n",
              "    </tr>\n",
              "    <tr>\n",
              "      <th>75%</th>\n",
              "      <td>1.000000</td>\n",
              "      <td>1.000000</td>\n",
              "      <td>1.000000</td>\n",
              "      <td>1.000000</td>\n",
              "      <td>1.000000</td>\n",
              "      <td>1.000000</td>\n",
              "      <td>1.000000</td>\n",
              "      <td>1.000000</td>\n",
              "      <td>1.000000</td>\n",
              "      <td>1.000000</td>\n",
              "      <td>1.000000</td>\n",
              "      <td>1.000000</td>\n",
              "      <td>1.000000</td>\n",
              "      <td>1.000000</td>\n",
              "      <td>1.000000</td>\n",
              "    </tr>\n",
              "    <tr>\n",
              "      <th>max</th>\n",
              "      <td>1.000000</td>\n",
              "      <td>1.000000</td>\n",
              "      <td>1.000000</td>\n",
              "      <td>1.000000</td>\n",
              "      <td>1.000000</td>\n",
              "      <td>1.000000</td>\n",
              "      <td>1.000000</td>\n",
              "      <td>1.000000</td>\n",
              "      <td>1.000000</td>\n",
              "      <td>1.000000</td>\n",
              "      <td>1.000000</td>\n",
              "      <td>1.000000</td>\n",
              "      <td>1.000000</td>\n",
              "      <td>1.000000</td>\n",
              "      <td>1.000000</td>\n",
              "    </tr>\n",
              "  </tbody>\n",
              "</table>\n",
              "</div>\n",
              "      <button class=\"colab-df-convert\" onclick=\"convertToInteractive('df-aa3c4224-0df4-4d2b-8563-359296f5e734')\"\n",
              "              title=\"Convert this dataframe to an interactive table.\"\n",
              "              style=\"display:none;\">\n",
              "        \n",
              "  <svg xmlns=\"http://www.w3.org/2000/svg\" height=\"24px\"viewBox=\"0 0 24 24\"\n",
              "       width=\"24px\">\n",
              "    <path d=\"M0 0h24v24H0V0z\" fill=\"none\"/>\n",
              "    <path d=\"M18.56 5.44l.94 2.06.94-2.06 2.06-.94-2.06-.94-.94-2.06-.94 2.06-2.06.94zm-11 1L8.5 8.5l.94-2.06 2.06-.94-2.06-.94L8.5 2.5l-.94 2.06-2.06.94zm10 10l.94 2.06.94-2.06 2.06-.94-2.06-.94-.94-2.06-.94 2.06-2.06.94z\"/><path d=\"M17.41 7.96l-1.37-1.37c-.4-.4-.92-.59-1.43-.59-.52 0-1.04.2-1.43.59L10.3 9.45l-7.72 7.72c-.78.78-.78 2.05 0 2.83L4 21.41c.39.39.9.59 1.41.59.51 0 1.02-.2 1.41-.59l7.78-7.78 2.81-2.81c.8-.78.8-2.07 0-2.86zM5.41 20L4 18.59l7.72-7.72 1.47 1.35L5.41 20z\"/>\n",
              "  </svg>\n",
              "      </button>\n",
              "      \n",
              "  <style>\n",
              "    .colab-df-container {\n",
              "      display:flex;\n",
              "      flex-wrap:wrap;\n",
              "      gap: 12px;\n",
              "    }\n",
              "\n",
              "    .colab-df-convert {\n",
              "      background-color: #E8F0FE;\n",
              "      border: none;\n",
              "      border-radius: 50%;\n",
              "      cursor: pointer;\n",
              "      display: none;\n",
              "      fill: #1967D2;\n",
              "      height: 32px;\n",
              "      padding: 0 0 0 0;\n",
              "      width: 32px;\n",
              "    }\n",
              "\n",
              "    .colab-df-convert:hover {\n",
              "      background-color: #E2EBFA;\n",
              "      box-shadow: 0px 1px 2px rgba(60, 64, 67, 0.3), 0px 1px 3px 1px rgba(60, 64, 67, 0.15);\n",
              "      fill: #174EA6;\n",
              "    }\n",
              "\n",
              "    [theme=dark] .colab-df-convert {\n",
              "      background-color: #3B4455;\n",
              "      fill: #D2E3FC;\n",
              "    }\n",
              "\n",
              "    [theme=dark] .colab-df-convert:hover {\n",
              "      background-color: #434B5C;\n",
              "      box-shadow: 0px 1px 3px 1px rgba(0, 0, 0, 0.15);\n",
              "      filter: drop-shadow(0px 1px 2px rgba(0, 0, 0, 0.3));\n",
              "      fill: #FFFFFF;\n",
              "    }\n",
              "  </style>\n",
              "\n",
              "      <script>\n",
              "        const buttonEl =\n",
              "          document.querySelector('#df-aa3c4224-0df4-4d2b-8563-359296f5e734 button.colab-df-convert');\n",
              "        buttonEl.style.display =\n",
              "          google.colab.kernel.accessAllowed ? 'block' : 'none';\n",
              "\n",
              "        async function convertToInteractive(key) {\n",
              "          const element = document.querySelector('#df-aa3c4224-0df4-4d2b-8563-359296f5e734');\n",
              "          const dataTable =\n",
              "            await google.colab.kernel.invokeFunction('convertToInteractive',\n",
              "                                                     [key], {});\n",
              "          if (!dataTable) return;\n",
              "\n",
              "          const docLinkHtml = 'Like what you see? Visit the ' +\n",
              "            '<a target=\"_blank\" href=https://colab.research.google.com/notebooks/data_table.ipynb>data table notebook</a>'\n",
              "            + ' to learn more about interactive tables.';\n",
              "          element.innerHTML = '';\n",
              "          dataTable['output_type'] = 'display_data';\n",
              "          await google.colab.output.renderOutput(dataTable, element);\n",
              "          const docLink = document.createElement('div');\n",
              "          docLink.innerHTML = docLinkHtml;\n",
              "          element.appendChild(docLink);\n",
              "        }\n",
              "      </script>\n",
              "    </div>\n",
              "  </div>\n",
              "  "
            ]
          },
          "metadata": {},
          "execution_count": 44
        }
      ],
      "source": [
        "data.describe()"
      ]
    },
    {
      "cell_type": "markdown",
      "metadata": {
        "id": "lYBehD8ytlug"
      },
      "source": [
        "######Melakukan *oversampling* pada data"
      ]
    },
    {
      "cell_type": "markdown",
      "metadata": {
        "id": "ztVNrvuGt1jl"
      },
      "source": [
        "Melihat rasio label data"
      ]
    },
    {
      "cell_type": "code",
      "execution_count": null,
      "metadata": {
        "colab": {
          "base_uri": "https://localhost:8080/"
        },
        "id": "uyZEZwFbt56-",
        "outputId": "ab607428-6b4d-476c-ea38-30d3d774b334"
      },
      "outputs": [
        {
          "output_type": "stream",
          "name": "stdout",
          "text": [
            "Counter({1: 270, 0: 39})\n",
            "Rasio: 0.14444444444444443\n"
          ]
        }
      ],
      "source": [
        "from collections import Counter\n",
        "\n",
        "c = Counter(label)\n",
        "print(c)\n",
        "print(f'Rasio: {c[0]/c[1]}')"
      ]
    },
    {
      "cell_type": "markdown",
      "metadata": {
        "id": "XAkadHt5t_GH"
      },
      "source": [
        "Visualisasi data dalam *pie chart* sebelum dilakukan *oversampling*"
      ]
    },
    {
      "cell_type": "code",
      "execution_count": null,
      "metadata": {
        "colab": {
          "base_uri": "https://localhost:8080/"
        },
        "id": "b-USPAruuEcK",
        "outputId": "5edb8b4a-c59b-4dbb-9015-5db33ef46a10"
      },
      "outputs": [
        {
          "output_type": "display_data",
          "data": {
            "text/plain": [
              "<Figure size 432x288 with 1 Axes>"
            ],
            "image/png": "[encoded data removed]"
          },
          "metadata": {}
        }
      ],
      "source": [
        "plt.pie(c.values(), labels=c.keys(), autopct='%1.1f%%')\n",
        "plt.title('Label dataset sebelum oversampling')\n",
        "plt.legend(title='Label kelas')\n",
        "plt.show()"
      ]
    },
    {
      "cell_type": "markdown",
      "metadata": {
        "id": "sCzAJ3rtuIbU"
      },
      "source": [
        "Karena data tidak seimbang (imbalance), maka dilakukan oversampling. Di sini SMOTE digunakan untuk oversampling"
      ]
    },
    {
      "cell_type": "markdown",
      "metadata": {
        "id": "A5Yp9UWwuOWF"
      },
      "source": [
        "Visualisasi data dalam pie chart setelah dilakukan oversampling dengan SMOTE"
      ]
    },
    {
      "cell_type": "code",
      "execution_count": null,
      "metadata": {
        "colab": {
          "base_uri": "https://localhost:8080/"
        },
        "id": "TiqH1N1gAvTZ",
        "outputId": "c04f4af9-2fe9-427d-8b8b-c60637d4c9f7"
      },
      "outputs": [
        {
          "output_type": "stream",
          "name": "stdout",
          "text": [
            "Counter({1: 270, 0: 270})\n",
            "Rasio: 1.0\n"
          ]
        }
      ],
      "source": [
        "from imblearn.over_sampling import SMOTE\n",
        "\n",
        "oversample = SMOTE(random_state=10)\n",
        "data, label = oversample.fit_resample(data, label)\n",
        "\n",
        "c = Counter(label)\n",
        "print(c)\n",
        "print(f'Rasio: {c[0]/c[1]}')"
      ]
    },
    {
      "cell_type": "code",
      "execution_count": null,
      "metadata": {
        "colab": {
          "base_uri": "https://localhost:8080/"
        },
        "id": "jbe0DfPkuTo-",
        "outputId": "8a73f8ea-1e75-4e8c-fa47-9469c675f036"
      },
      "outputs": [
        {
          "output_type": "display_data",
          "data": {
            "text/plain": [
              "<Figure size 432x288 with 1 Axes>"
            ],
            "image/png": "[encoded data removed]"
          },
          "metadata": {}
        }
      ],
      "source": [
        "plt.pie(c.values(), labels=c.keys(), autopct='%1.1f%%')\n",
        "plt.title('Label dataset setelah oversampling')\n",
        "plt.legend(title='Label kelas')\n",
        "plt.show()"
      ]
    },
    {
      "cell_type": "markdown",
      "metadata": {
        "id": "CVI41EPhOK6G"
      },
      "source": [
        "Plot data dengan fitur tereduksi"
      ]
    },
    {
      "cell_type": "code",
      "execution_count": null,
      "metadata": {
        "colab": {
          "base_uri": "https://localhost:8080/"
        },
        "id": "NmDgYM0TMouh",
        "outputId": "7bd49fff-167a-4a4f-8536-e651c1a5d707"
      },
      "outputs": [
        {
          "output_type": "execute_result",
          "data": {
            "text/plain": [
              "<function matplotlib.pyplot.show(*args, **kw)>"
            ]
          },
          "metadata": {},
          "execution_count": 49
        },
        {
          "output_type": "display_data",
          "data": {
            "text/plain": [
              "<Figure size 360x360 with 1 Axes>"
            ],
            "image/png": "[encoded data removed]"
          },
          "metadata": {
            "needs_background": "light"
          }
        }
      ],
      "source": [
        "from sklearn.manifold import TSNE\n",
        "\n",
        "data_viz = data.copy()\n",
        "label_vis = label.copy()\n",
        "\n",
        "data_embedded =  TSNE(n_components=2, learning_rate='auto', init='random', random_state=50).fit_transform(data_viz[data_viz.columns[1:-1]].to_numpy())\n",
        "plt.figure(figsize=(5,5))\n",
        "plt.scatter(data_embedded.T[0], data_embedded.T[1], c=label.replace([0,1],['g','orange']), cmap='viridis')\n",
        "plt.show"
      ]
    },
    {
      "cell_type": "markdown",
      "metadata": {
        "id": "6a2lEC_OuWgz"
      },
      "source": [
        "Membagi Dataframe menjadi data latih dan data uji"
      ]
    },
    {
      "cell_type": "code",
      "execution_count": null,
      "metadata": {
        "id": "2NVzVUAwuX_X"
      },
      "outputs": [],
      "source": [
        "from sklearn.model_selection import train_test_split\n",
        "from sklearn.preprocessing import minmax_scale\n",
        "\n",
        "X = minmax_scale(data)\n",
        "y = label\n",
        "\n",
        "X_train, X_test, y_train, y_test = train_test_split(X, y, test_size=0.2, stratify=label)"
      ]
    },
    {
      "cell_type": "markdown",
      "metadata": {
        "id": "ZDIsusi8jYIc"
      },
      "source": [
        "## **Modeling & Evaluation**"
      ]
    },
    {
      "cell_type": "markdown",
      "metadata": {
        "id": "iZlg51aGFrrR"
      },
      "source": [
        "### Fungsi Evaluasi"
      ]
    },
    {
      "cell_type": "code",
      "execution_count": null,
      "metadata": {
        "id": "gTp3BIv6jcBl"
      },
      "outputs": [],
      "source": [
        "from sklearn.metrics import accuracy_score\n",
        "from sklearn.metrics import classification_report\n",
        "from sklearn.metrics import confusion_matrix\n",
        "from sklearn.metrics import ConfusionMatrixDisplay\n",
        "\n",
        "def supervisedEvaluation(a, b):\n",
        "\n",
        "  print('Confusion Matrix:')\n",
        "  print(confusion_matrix(a,b))\n",
        "\n",
        "  print('\\nAccuracy Score:')\n",
        "  accuracy = accuracy_score(a,b)\n",
        "  print(accuracy)\n",
        "\n",
        "  print('\\nClassification Report:')\n",
        "  print(classification_report(a,b))\n",
        "\n",
        "  display = ConfusionMatrixDisplay(confusion_matrix(a,b))\n",
        "  display.plot()"
      ]
    },
    {
      "cell_type": "markdown",
      "metadata": {
        "id": "xGE1giiLQebe"
      },
      "source": [
        "###ADALINE"
      ]
    },
    {
      "cell_type": "markdown",
      "metadata": {
        "id": "TF4dAUROFy0v"
      },
      "source": [
        "#### Klas Model Adaline"
      ]
    },
    {
      "cell_type": "code",
      "execution_count": null,
      "metadata": {
        "id": "DBMUQVQpQhr8"
      },
      "outputs": [],
      "source": [
        "import sys\n",
        "import numpy as np\n",
        "import random\n",
        "import matplotlib.pyplot as plt\n",
        "\n",
        "class Adaline:\n",
        "\n",
        "  def __init__(self, max_epoch=100, max_error=0.1, learning_rate=0.1):\n",
        "    self.mepoch = max_epoch\n",
        "    self.merr = max_error\n",
        "    self.lr = learning_rate\n",
        "    self.w = 0\n",
        "\n",
        "  def bipstep(self, y, th=0):\n",
        "    return 1 if y >= th else -1\n",
        "\n",
        "  def fit(self, d, t, verbose=False, draw=False):\n",
        "    data = d.copy()\n",
        "    t = t.copy().to_numpy()\n",
        "    w = np.random.uniform(0, 1, len(data[0]) + 1)\n",
        "    b = np.ones((len(data), 1))\n",
        "    data = np.hstack((b, data))\n",
        "    epoch = 1\n",
        "\n",
        "    while epoch < self.mepoch:\n",
        "      max_ch = -sys.maxsize\n",
        "\n",
        "      if verbose: print('\\nEpoch:', epoch)\n",
        "\n",
        "      for r, row in enumerate(data):\n",
        "        y = np.dot(row, w)\n",
        "\n",
        "        for i in range(len(row)):\n",
        "          w_new = w[i] + self.lr * (t[r] - y) * row[i]\n",
        "          max_ch = max(abs(w[i] - w_new), max_ch)\n",
        "          w[i] = w_new\n",
        "        \n",
        "      if verbose:\n",
        "        print('max_error:',max_ch)\n",
        "        print('Weight:', w)\n",
        "        \n",
        "      if max_ch < self.merr :break\n",
        "      epoch += 1\n",
        "    \n",
        "    if verbose: print('Last epoch:', epoch)\n",
        "    self.w = w\n",
        "\n",
        "    return w\n",
        "\n",
        "  def predict(self, test_data, th=0):\n",
        "    w=0\n",
        "    \n",
        "    if len(self.w) == 0:\n",
        "      print(\"fit first!\")\n",
        "      return\n",
        "    else: w=self.w\n",
        "    \n",
        "    w = np.array(w)\n",
        "\n",
        "    Y = []\n",
        "  \n",
        "    for x in test_data:\n",
        "      y_in = w[0] + np.dot(x, w[1:])\n",
        "      y = self.bipstep(y_in)\n",
        "      Y.append(y)\n",
        "      \n",
        "    return np.array(Y)\n"
      ]
    },
    {
      "cell_type": "markdown",
      "metadata": {
        "id": "Qty1jOAGF6kw"
      },
      "source": [
        "#### Training"
      ]
    },
    {
      "cell_type": "code",
      "execution_count": null,
      "metadata": {
        "id": "ep7nizVTQraO"
      },
      "outputs": [],
      "source": [
        "y_train_bip = y_train.map(lambda x: -1 if x == 0 else 1)\n",
        "adaline = Adaline(max_error=.001, max_epoch=500, learning_rate=.01)\n",
        "model = adaline.fit(X_train, y_train_bip)"
      ]
    },
    {
      "cell_type": "code",
      "execution_count": null,
      "metadata": {
        "id": "HE_Zm4i_Q7X6"
      },
      "outputs": [],
      "source": [
        "adaline_predict_bip = adaline.predict(X_test)\n",
        "adaline_predict = (adaline_predict_bip + 1)//2"
      ]
    },
    {
      "cell_type": "markdown",
      "metadata": {
        "id": "Io9z5UzsF8oI"
      },
      "source": [
        "#### Evaluasi"
      ]
    },
    {
      "cell_type": "code",
      "execution_count": null,
      "metadata": {
        "colab": {
          "base_uri": "https://localhost:8080/",
          "height": 588
        },
        "id": "UfcVgIlgplkG",
        "outputId": "5ac073f8-7ef0-47c4-c555-835ed2ccc21e"
      },
      "outputs": [
        {
          "output_type": "stream",
          "name": "stdout",
          "text": [
            "Confusion Matrix:\n",
            "[[53 10]\n",
            " [ 1 44]]\n",
            "\n",
            "Accuracy Score:\n",
            "0.8981481481481481\n",
            "\n",
            "Classification Report:\n",
            "              precision    recall  f1-score   support\n",
            "\n",
            "           0       0.98      0.84      0.91        63\n",
            "           1       0.81      0.98      0.89        45\n",
            "\n",
            "    accuracy                           0.90       108\n",
            "   macro avg       0.90      0.91      0.90       108\n",
            "weighted avg       0.91      0.90      0.90       108\n",
            "\n"
          ]
        },
        {
          "output_type": "display_data",
          "data": {
            "text/plain": [
              "<Figure size 432x288 with 2 Axes>"
            ],
            "image/png": "[encoded data removed]"
          },
          "metadata": {
            "needs_background": "light"
          }
        }
      ],
      "source": [
        "supervisedEvaluation(adaline_predict,y_test)"
      ]
    },
    {
      "cell_type": "markdown",
      "metadata": {
        "id": "JFcQ71506zW7"
      },
      "source": [
        "###MADALINE"
      ]
    },
    {
      "cell_type": "markdown",
      "metadata": {
        "id": "TUd6JCTMGKlX"
      },
      "source": [
        "#### Klas Model Madaline"
      ]
    },
    {
      "cell_type": "code",
      "execution_count": null,
      "metadata": {
        "id": "ruCcpdo3_n_a"
      },
      "outputs": [],
      "source": [
        "def aktivasi(x):\n",
        "  if x < 0:\n",
        "    return -1\n",
        "  else:\n",
        "    return 1\n",
        "\n",
        "def train(train_data, train_target, alpha=0.1, max_epoch=10):\n",
        "    w = np.random.random((train_data.shape[1], 2))\n",
        "    v = np.array([0.5, 0.5])\n",
        "    b = np.random.random(2)\n",
        "    b = np.append(b, 0.5)\n",
        "    epoch = 0\n",
        "    v_aktivasi = np.vectorize(aktivasi)\n",
        "    weight_updated = True\n",
        "    while weight_updated == True and epoch < max_epoch:\n",
        "        weight_updated = False\n",
        "        for data, target in zip(train_data, train_target):\n",
        "            z_in = np.dot(data, w)\n",
        "            z_in = z_in + b[:-1]\n",
        "            z = v_aktivasi(z_in)\n",
        "            y_in = np.dot(z, v) + b[-1]\n",
        "            y = v_aktivasi(y_in)\n",
        "            if y != target:\n",
        "                weight_updated = True\n",
        "                if target == 1:\n",
        "                    index = np.argmin(np.abs(z_in))\n",
        "                    b[index] = b[index] + alpha * (1 - z_in[index])\n",
        "                    w[:, index] = w[:, index] + alpha * (1 - z_in[index]) * data\n",
        "                elif target == -1:\n",
        "                    index = np.where(z_in > 0)[0]\n",
        "                    if len(index) == 1:\n",
        "                        index = index[0]\n",
        "                    b[index] = b[index] + alpha * (-1 - z_in[index])\n",
        "                    w[:, index] = w[:, index] + alpha * (-1 - z_in[index]) * data[index]\n",
        "        epoch = epoch + 1\n",
        "    return (w, v, b)"
      ]
    },
    {
      "cell_type": "code",
      "execution_count": null,
      "metadata": {
        "id": "JuaVRRv6_rBA"
      },
      "outputs": [],
      "source": [
        "def test(w, v, b, test_data):\n",
        "    v_aktivasi = np.vectorize(aktivasi)\n",
        "    z_in = np.dot(test_data, w)\n",
        "    z_in = z_in + b[:-1]\n",
        "    z = v_aktivasi(z_in)\n",
        "    y_in = np.dot(z, v) + b[-1]\n",
        "    y = v_aktivasi(y_in)\n",
        "    return y"
      ]
    },
    {
      "cell_type": "markdown",
      "metadata": {
        "id": "VstqFbZ5GM32"
      },
      "source": [
        "#### Training"
      ]
    },
    {
      "cell_type": "code",
      "execution_count": null,
      "metadata": {
        "id": "4FfqJW-M_wfS"
      },
      "outputs": [],
      "source": [
        "m_target = y_train.map(lambda x: -1 if x == 0 else 1).to_numpy()\n",
        "(w,v,b) = train(X_train,m_target,alpha=0.01,max_epoch=1000)\n",
        "m_output_bip = test(w,v,b,X_test)\n",
        "m_output = (m_output_bip + 1)//2"
      ]
    },
    {
      "cell_type": "markdown",
      "metadata": {
        "id": "EmQDr8fQGjkB"
      },
      "source": [
        "#### Evaluasi"
      ]
    },
    {
      "cell_type": "code",
      "execution_count": null,
      "metadata": {
        "colab": {
          "base_uri": "https://localhost:8080/",
          "height": 588
        },
        "id": "i3KMgYygoQfK",
        "outputId": "2812a1e8-0cf7-48d3-d0ee-c528c947ab60"
      },
      "outputs": [
        {
          "output_type": "stream",
          "name": "stdout",
          "text": [
            "Confusion Matrix:\n",
            "[[51 14]\n",
            " [ 3 40]]\n",
            "\n",
            "Accuracy Score:\n",
            "0.8425925925925926\n",
            "\n",
            "Classification Report:\n",
            "              precision    recall  f1-score   support\n",
            "\n",
            "           0       0.94      0.78      0.86        65\n",
            "           1       0.74      0.93      0.82        43\n",
            "\n",
            "    accuracy                           0.84       108\n",
            "   macro avg       0.84      0.86      0.84       108\n",
            "weighted avg       0.86      0.84      0.84       108\n",
            "\n"
          ]
        },
        {
          "output_type": "display_data",
          "data": {
            "text/plain": [
              "<Figure size 432x288 with 2 Axes>"
            ],
            "image/png": "[encoded data removed]"
          },
          "metadata": {
            "needs_background": "light"
          }
        }
      ],
      "source": [
        "supervisedEvaluation(m_output,y_test.to_numpy())"
      ]
    },
    {
      "cell_type": "markdown",
      "metadata": {
        "id": "wktL3GcvPD2P"
      },
      "source": [
        "###SOM"
      ]
    },
    {
      "cell_type": "markdown",
      "metadata": {
        "id": "ILkG7q-hGnc3"
      },
      "source": [
        "#### Algoritma SOM"
      ]
    },
    {
      "cell_type": "code",
      "execution_count": null,
      "metadata": {
        "id": "LPvJrgzFPXHF"
      },
      "outputs": [],
      "source": [
        "from sklearn.preprocessing import minmax_scale\n",
        "from sklearn.metrics import silhouette_score\n",
        "import numpy as np\n",
        "\n",
        "def som(X, lrate, b, max_epoch, n_cluster):\n",
        "  data = X.copy()\n",
        "  centroids = np.random.uniform(size=(n_cluster, len(X[0])))\n",
        "  epoch = 0\n",
        "  labels = []\n",
        "\n",
        "  while epoch < max_epoch:\n",
        "    for x in data:\n",
        "      d = [sum((w - x) ** 2) for w in centroids]\n",
        "      min = np.argmin(d)\n",
        "      centroids[min] += lrate * (x - centroids[min])\n",
        "\n",
        "    lrate *= b\n",
        "    epoch += 1\n",
        "\n",
        "  for x in data:\n",
        "    d = [sum((w - x) ** 2) for w in centroids]\n",
        "    min = np.argmin(d)\n",
        "\n",
        "    labels.append(min)\n",
        "\n",
        "  return centroids, labels\n",
        "\n",
        "def predict(centroids, data):\n",
        "  clusters = []\n",
        "  for row in data:\n",
        "    distances = [sum((w - row) ** 2) for w in centroids]\n",
        "    clusters.append(np.argmin(distances))\n",
        "  return clusters\n",
        "\n",
        "def draw(X, target, centroids):\n",
        "  colors = 'rgbcmyk'\n",
        "  for x, label in zip(X, target):\n",
        "    plt.plot(x[0], x[1], colors[label] + '.')\n",
        "    \n",
        "  plt.plot(centroids[:, 0], centroids[:, 1], 'kx')"
      ]
    },
    {
      "cell_type": "markdown",
      "metadata": {
        "id": "HM8uJFO7GpHY"
      },
      "source": [
        "#### Training"
      ]
    },
    {
      "cell_type": "code",
      "execution_count": null,
      "metadata": {
        "id": "9BdxSaWNQbJ1"
      },
      "outputs": [],
      "source": [
        "target = label\n",
        "centroids, labels = som(X_train, lrate=.05, b=.05, max_epoch=3, n_cluster=2)\n",
        "y_pred = predict(centroids, X_test)\n",
        "if accuracy_score(y_pred, y_test) < 0.5:\n",
        "  y_pred = list(map(lambda x: 1 if x == 0 else 0, y_pred))"
      ]
    },
    {
      "cell_type": "markdown",
      "metadata": {
        "id": "BxE8jE9sGsq4"
      },
      "source": [
        "#### Evaluasi"
      ]
    },
    {
      "cell_type": "code",
      "execution_count": null,
      "metadata": {
        "colab": {
          "base_uri": "https://localhost:8080/",
          "height": 606
        },
        "id": "jNXuMIaMGte1",
        "outputId": "bc7460d9-5f4f-46e6-f7ce-25f4215f7e2f"
      },
      "outputs": [
        {
          "output_type": "stream",
          "name": "stdout",
          "text": [
            "Confusion Matrix:\n",
            "[[53 10]\n",
            " [ 1 44]]\n",
            "\n",
            "Accuracy Score:\n",
            "0.8981481481481481\n",
            "\n",
            "Classification Report:\n",
            "              precision    recall  f1-score   support\n",
            "\n",
            "           0       0.98      0.84      0.91        63\n",
            "           1       0.81      0.98      0.89        45\n",
            "\n",
            "    accuracy                           0.90       108\n",
            "   macro avg       0.90      0.91      0.90       108\n",
            "weighted avg       0.91      0.90      0.90       108\n",
            "\n",
            "Silhouette score: 0.18260676544900273\n"
          ]
        },
        {
          "output_type": "display_data",
          "data": {
            "text/plain": [
              "<Figure size 432x288 with 2 Axes>"
            ],
            "image/png": "[encoded data removed]"
          },
          "metadata": {
            "needs_background": "light"
          }
        }
      ],
      "source": [
        "supervisedEvaluation(y_pred, y_test)\n",
        "\n",
        "silhouette = silhouette_score(X_train, labels)\n",
        "print('Silhouette score:', silhouette)"
      ]
    },
    {
      "cell_type": "markdown",
      "metadata": {
        "id": "8ca0o7waGktI"
      },
      "source": [
        "###LVQ"
      ]
    },
    {
      "cell_type": "markdown",
      "metadata": {
        "id": "ceVHhs8uGwLR"
      },
      "source": [
        "#### Klas Model LVQ"
      ]
    },
    {
      "cell_type": "code",
      "execution_count": null,
      "metadata": {
        "id": "et8ODgrF9mEF"
      },
      "outputs": [],
      "source": [
        "import numpy as np\n",
        "\n",
        "class lvq:\n",
        "  def lvq_fit(train, target, lrate, b, max_epoch):\n",
        "    data = train.copy()\n",
        "    label, train_idx = np.unique(target, return_index=True)\n",
        "    weight = data[train_idx].astype(np.float64)\n",
        "    data = np.array([e for i, e in enumerate(zip(data, target)) if i not in train_idx])\n",
        "    data, target = data[:, 0], data[:, 1]\n",
        "    epoch = 0\n",
        "    while epoch < max_epoch:\n",
        "      for i, x in enumerate(data):\n",
        "        distance = [sum((w - x) ** 2) for w in weight]\n",
        "        min = np.argmin(distance)\n",
        "        sign = 1 if target[i] == label[min] else -1\n",
        "        weight[min] += sign * lrate * (x - weight[min])\n",
        "      lrate *= b\n",
        "      epoch += 1\n",
        "    return weight, label\n",
        "\n",
        "  def lvq_predict(X, model):\n",
        "    center, label = model\n",
        "    Y = []\n",
        "\n",
        "    for x in X:\n",
        "      d = [sum((c - x) ** 2) for c in center]\n",
        "      Y.append(label[np.argmin(d)])\n",
        "    return Y\n",
        "    \n",
        "  def calc_accuracy(a, b):\n",
        "    s = [1 if a[i] == b[i] else 0 for i in range(len(a))]\n",
        "    return sum(s) / len(a)"
      ]
    },
    {
      "cell_type": "markdown",
      "metadata": {
        "id": "OSaPWVGKGxZx"
      },
      "source": [
        "#### Training"
      ]
    },
    {
      "cell_type": "code",
      "execution_count": null,
      "metadata": {
        "id": "ux1mK7DjSmqj"
      },
      "outputs": [],
      "source": [
        "lvq_model = lvq.lvq_fit(X_train, y_train, lrate=.5, b=.8, max_epoch=50)"
      ]
    },
    {
      "cell_type": "code",
      "execution_count": null,
      "metadata": {
        "id": "jKdPNlJlstyi"
      },
      "outputs": [],
      "source": [
        "lvq_output = lvq.lvq_predict(X_test, lvq_model)"
      ]
    },
    {
      "cell_type": "markdown",
      "metadata": {
        "id": "4CW9uS-zGyqQ"
      },
      "source": [
        "#### Evaluation"
      ]
    },
    {
      "cell_type": "code",
      "execution_count": null,
      "metadata": {
        "colab": {
          "base_uri": "https://localhost:8080/",
          "height": 588
        },
        "id": "K0ybjnFXsiJJ",
        "outputId": "12fc8171-8ac6-42cc-b7ce-880f5ce1cd3d"
      },
      "outputs": [
        {
          "output_type": "stream",
          "name": "stdout",
          "text": [
            "Confusion Matrix:\n",
            "[[52  5]\n",
            " [ 2 49]]\n",
            "\n",
            "Accuracy Score:\n",
            "0.9351851851851852\n",
            "\n",
            "Classification Report:\n",
            "              precision    recall  f1-score   support\n",
            "\n",
            "           0       0.96      0.91      0.94        57\n",
            "           1       0.91      0.96      0.93        51\n",
            "\n",
            "    accuracy                           0.94       108\n",
            "   macro avg       0.94      0.94      0.94       108\n",
            "weighted avg       0.94      0.94      0.94       108\n",
            "\n"
          ]
        },
        {
          "output_type": "display_data",
          "data": {
            "text/plain": [
              "<Figure size 432x288 with 2 Axes>"
            ],
            "image/png": "[encoded data removed]"
          },
          "metadata": {
            "needs_background": "light"
          }
        }
      ],
      "source": [
        "supervisedEvaluation(lvq_output, y_test)"
      ]
    },
    {
      "cell_type": "markdown",
      "metadata": {
        "id": "3uJOlQ-XRwxr"
      },
      "source": [
        "### Backpropagation"
      ]
    },
    {
      "cell_type": "markdown",
      "metadata": {
        "id": "9nWVXeuBR5bZ"
      },
      "source": [
        "#### Klas model Backpropagation"
      ]
    },
    {
      "cell_type": "code",
      "execution_count": null,
      "metadata": {
        "id": "9nNmUas-R27k"
      },
      "outputs": [],
      "source": [
        "class Backpropagation:\n",
        "    def __init__(self, layer_conf, seed=10):\n",
        "        self.layer_conf = layer_conf\n",
        "        self.seed = seed\n",
        "        self.w = None\n",
        "\n",
        "    def _sig(self, X):\n",
        "        return [1 / (1 + np.exp(-x)) for x in X]\n",
        "\n",
        "    def _sigd(self, X):\n",
        "        output = []\n",
        "        for i, x in enumerate(X):\n",
        "            s = self._sig([x])[0]\n",
        "            output.append(s * (1 - s))\n",
        "        return output\n",
        "    \n",
        "    def fit(self, X, target, max_epoch=-1, max_error=.1, learn_rate=.1, verbose=False):\n",
        "        X = X.copy()\n",
        "        target = target.copy()\n",
        "        \n",
        "        np.random.seed(self.seed)\n",
        "\n",
        "        n_in = [np.empty(i) for i in self.layer_conf]\n",
        "        n = [np.empty(j + 1) if i < len(self.layer_conf) - 1 else np.empty(j) for i, j in enumerate(self.layer_conf)]\n",
        "\n",
        "        w = np.array([np.random.rand(self.layer_conf[i] + 1, self.layer_conf[i + 1]) for i in range(len(self.layer_conf) - 1)])\n",
        "        d_w = [np.empty((self.layer_conf[i] + 1, self.layer_conf[i + 1])) for i in range(len(self.layer_conf) - 1)]\n",
        "\n",
        "        d = [np.empty(s) for s in self.layer_conf[1:]]\n",
        "        d_in = [np.empty(s) for s in self.layer_conf[1:-1]]\n",
        "\n",
        "        epoch = 0\n",
        "        mse = 1\n",
        "        for i in range(0, len(n)-1):\n",
        "            n[i][-1] = 1\n",
        "\n",
        "        while (max_epoch == -1 or epoch < max_epoch) and mse > max_error:\n",
        "            epoch += 1\n",
        "            mse = 0\n",
        "\n",
        "            for r in range(len(X)):\n",
        "                n[0][:-1] = X[r]\n",
        "\n",
        "                for L in range(1, len(self.layer_conf)):\n",
        "                    n_in[L] = np.dot(n[L-1], w[L-1])\n",
        "                    n[L][:len(n_in[L])] = self._sig(n_in[L])\n",
        "\n",
        "                e = target[r] - n[-1]\n",
        "                mse += sum(e ** 2)\n",
        "                d[-1] = e * self._sigd(n_in[-1])\n",
        "                d_w[-1] = learn_rate * d[-1] * n[-2].reshape((-1, 1))\n",
        "\n",
        "                for L in range(len(self.layer_conf) - 1, 1, -1):\n",
        "                    d_in[L-2] = np.dot(d[L-1], np.transpose(w[L-1][:-1]))\n",
        "                    d[L-2] = d_in[L-2] * np.array(self._sigd(n_in[L-1]))\n",
        "                    d_w[L-2] = (learn_rate * d[L-2]) * n[L-2].reshape((-1, 1))\n",
        "\n",
        "                w += d_w\n",
        "\n",
        "            mse /= len(X)\n",
        "\n",
        "            if verbose and epoch % 100 == 0:\n",
        "                print(f'Epoch {epoch}, MSE: {mse}')\n",
        "\n",
        "        if verbose:\n",
        "            print(f'Epoch {epoch}, MSE: {mse}')\n",
        "        \n",
        "        self.w = w\n",
        "\n",
        "\n",
        "    def predict(self, X):\n",
        "        if self.w is None:\n",
        "            return None\n",
        "\n",
        "        n = [np.empty(len(i)) for i in self.w]\n",
        "        n_in = [np.empty(len(i[0])) for i in self.w]\n",
        "\n",
        "        predict = []\n",
        "        n.append(np.empty(len(self.w[-1][0])))\n",
        "\n",
        "        for x in X:\n",
        "            n[0][:-1] = x\n",
        "\n",
        "            for L in range(0, len(self.w)):\n",
        "                n_in[L] = np.dot(n[L], self.w[L])\n",
        "                n[L + 1][:len(n_in[L])] = self._sig(n_in[L])\n",
        "\n",
        "            predict.append(n[-1].copy())\n",
        "            \n",
        "        return predict"
      ]
    },
    {
      "cell_type": "markdown",
      "metadata": {
        "id": "8dkMMqg8R-Zx"
      },
      "source": [
        "#### Training"
      ]
    },
    {
      "cell_type": "code",
      "execution_count": null,
      "metadata": {
        "id": "TSmleAZeR938"
      },
      "outputs": [],
      "source": [
        "import warnings\n",
        "warnings.filterwarnings(\"ignore\", category=np.VisibleDeprecationWarning) \n",
        "\n",
        "bp = Backpropagation(layer_conf=(15, 21, 1))\n",
        "\n",
        "y_train_mapped = list(map(lambda x: [x], y_train))\n",
        "bp.fit(X_train.copy(), y_train_mapped, max_error=.05)\n",
        "\n",
        "bp_pred_raw = bp.predict(X_test)\n",
        "bp_pred = [round(i[0]) for i in bp_pred_raw]"
      ]
    },
    {
      "cell_type": "markdown",
      "metadata": {
        "id": "YC7ix1riTDO_"
      },
      "source": [
        "#### Evaluasi"
      ]
    },
    {
      "cell_type": "code",
      "execution_count": null,
      "metadata": {
        "colab": {
          "base_uri": "https://localhost:8080/",
          "height": 588
        },
        "id": "V1t6cN5fTHIV",
        "outputId": "41645232-7d61-4483-8439-5775fdb482cb"
      },
      "outputs": [
        {
          "output_type": "stream",
          "name": "stdout",
          "text": [
            "Confusion Matrix:\n",
            "[[52  2]\n",
            " [ 2 52]]\n",
            "\n",
            "Accuracy Score:\n",
            "0.9629629629629629\n",
            "\n",
            "Classification Report:\n",
            "              precision    recall  f1-score   support\n",
            "\n",
            "           0       0.96      0.96      0.96        54\n",
            "           1       0.96      0.96      0.96        54\n",
            "\n",
            "    accuracy                           0.96       108\n",
            "   macro avg       0.96      0.96      0.96       108\n",
            "weighted avg       0.96      0.96      0.96       108\n",
            "\n"
          ]
        },
        {
          "output_type": "display_data",
          "data": {
            "text/plain": [
              "<Figure size 432x288 with 2 Axes>"
            ],
            "image/png": "[encoded data removed]"
          },
          "metadata": {
            "needs_background": "light"
          }
        }
      ],
      "source": [
        "supervisedEvaluation(bp_pred, y_test)"
      ]
    }
  ],
  "metadata": {
    "colab": {
      "collapsed_sections": [
        "imZF9tqhRhPj",
        "pCMS2uf5FJzJ",
        "rMPXpM5ARwpp",
        "M8xY6Q9kSQVQ",
        "ZehLfRE4aaRB",
        "teYENewkp7qH",
        "FziEh2-6sWM9",
        "DTfpf2FPs0BO",
        "hf0Yw6F_tFMg",
        "fOtWebFTtQvj",
        "ZDIsusi8jYIc",
        "iZlg51aGFrrR",
        "xGE1giiLQebe",
        "TF4dAUROFy0v",
        "Qty1jOAGF6kw",
        "Io9z5UzsF8oI",
        "JFcQ71506zW7",
        "TUd6JCTMGKlX",
        "VstqFbZ5GM32",
        "EmQDr8fQGjkB",
        "wktL3GcvPD2P",
        "ILkG7q-hGnc3",
        "HM8uJFO7GpHY",
        "BxE8jE9sGsq4",
        "8ca0o7waGktI",
        "ceVHhs8uGwLR",
        "OSaPWVGKGxZx",
        "4CW9uS-zGyqQ",
        "3uJOlQ-XRwxr",
        "9nWVXeuBR5bZ",
        "YC7ix1riTDO_"
      ],
      "provenance": []
    },
    "kernelspec": {
      "display_name": "Python 3",
      "name": "python3"
    },
    "language_info": {
      "name": "python"
    }
  },
  "nbformat": 4,
  "nbformat_minor": 0
}